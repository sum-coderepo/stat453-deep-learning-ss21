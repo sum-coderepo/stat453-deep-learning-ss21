{
 "cells": [
  {
   "cell_type": "code",
   "execution_count": 1,
   "id": "vocational-encounter",
   "metadata": {},
   "outputs": [],
   "source": [
    "from scipy.signal import correlate2d, convolve2d\n",
    "import torch"
   ]
  },
  {
   "cell_type": "code",
   "execution_count": 2,
   "id": "atmospheric-discretion",
   "metadata": {},
   "outputs": [],
   "source": [
    "a = torch.tensor([[1.1, 1.2, 1.3],\n",
    "                  [2.1, 2.2, 2.3],\n",
    "                  [3.1, 3.2, 3.3]])"
   ]
  },
  {
   "cell_type": "code",
   "execution_count": 3,
   "id": "equivalent-chest",
   "metadata": {},
   "outputs": [
    {
     "data": {
      "text/plain": [
       "Parameter containing:\n",
       "tensor([[[[ 0.1189, -0.1202,  0.2584],\n",
       "          [-0.2276, -0.1327, -0.0296],\n",
       "          [ 0.1741, -0.3225, -0.0288]]]], requires_grad=True)"
      ]
     },
     "execution_count": 3,
     "metadata": {},
     "output_type": "execute_result"
    }
   ],
   "source": [
    "conv_pytorch = torch.nn.Conv2d(in_channels=1, out_channels=1, kernel_size=(3, 3))\n",
    "with torch.no_grad():\n",
    "    conv_pytorch.bias.zero_()\n",
    "    \n",
    "conv_pytorch.weight"
   ]
  },
  {
   "cell_type": "code",
   "execution_count": 4,
   "id": "transparent-portal",
   "metadata": {},
   "outputs": [
    {
     "data": {
      "text/plain": [
       "array([[ 0.11893535, -0.12021737,  0.2583796 ],\n",
       "       [-0.22761738, -0.13269596, -0.02961969],\n",
       "       [ 0.17413345, -0.3224947 , -0.02875605]], dtype=float32)"
      ]
     },
     "execution_count": 4,
     "metadata": {},
     "output_type": "execute_result"
    }
   ],
   "source": [
    "conv_weight_numpy = conv_pytorch.weight.detach().numpy().reshape(3, 3)\n",
    "conv_weight_numpy"
   ]
  },
  {
   "cell_type": "markdown",
   "id": "linear-necklace",
   "metadata": {},
   "source": [
    "## Cross-correlation"
   ]
  },
  {
   "cell_type": "code",
   "execution_count": 5,
   "id": "center-samba",
   "metadata": {},
   "outputs": [
    {
     "data": {
      "text/plain": [
       "tensor([[[[-1.1027]]]])"
      ]
     },
     "execution_count": 5,
     "metadata": {},
     "output_type": "execute_result"
    }
   ],
   "source": [
    "conv_pytorch(a.view(1, 1, 3, 3))"
   ]
  },
  {
   "cell_type": "code",
   "execution_count": 6,
   "id": "saved-skirt",
   "metadata": {},
   "outputs": [
    {
     "data": {
      "text/plain": [
       "array([[-1.1026558]], dtype=float32)"
      ]
     },
     "execution_count": 6,
     "metadata": {},
     "output_type": "execute_result"
    }
   ],
   "source": [
    "correlate2d(a.numpy(), conv_weight_numpy, mode='valid')"
   ]
  },
  {
   "cell_type": "markdown",
   "id": "enabling-optimization",
   "metadata": {},
   "source": [
    "# Real convolution"
   ]
  },
  {
   "cell_type": "code",
   "execution_count": 7,
   "id": "elect-newton",
   "metadata": {},
   "outputs": [
    {
     "data": {
      "text/plain": [
       "array([[-0.2611365]], dtype=float32)"
      ]
     },
     "execution_count": 7,
     "metadata": {},
     "output_type": "execute_result"
    }
   ],
   "source": [
    "convolve2d(a.numpy(), conv_weight_numpy, mode='valid')"
   ]
  },
  {
   "cell_type": "code",
   "execution_count": 8,
   "id": "unlikely-public",
   "metadata": {},
   "outputs": [
    {
     "data": {
      "text/plain": [
       "tensor([[[[-0.2611]]]])"
      ]
     },
     "execution_count": 8,
     "metadata": {},
     "output_type": "execute_result"
    }
   ],
   "source": [
    "a_mod = torch.tensor([[3.3, 3.2, 3.1],\n",
    "                      [2.3, 2.2, 2.1],\n",
    "                      [1.3, 1.2, 1.1]])\n",
    "\n",
    "\n",
    "conv_pytorch(a_mod.view(1, 1, 3, 3))"
   ]
  }
 ],
 "metadata": {
  "kernelspec": {
   "display_name": "Python 3",
   "language": "python",
   "name": "python3"
  },
  "language_info": {
   "codemirror_mode": {
    "name": "ipython",
    "version": 3
   },
   "file_extension": ".py",
   "mimetype": "text/x-python",
   "name": "python",
   "nbconvert_exporter": "python",
   "pygments_lexer": "ipython3",
   "version": "3.9.2"
  }
 },
 "nbformat": 4,
 "nbformat_minor": 5
}
