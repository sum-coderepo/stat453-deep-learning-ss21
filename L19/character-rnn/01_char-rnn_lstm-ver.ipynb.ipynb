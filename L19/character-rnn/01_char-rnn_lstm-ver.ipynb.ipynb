{
 "cells": [
  {
   "cell_type": "markdown",
   "metadata": {},
   "source": [
    "STAT 453: Deep Learning (Spring 2021)  \n",
    "Instructor: Sebastian Raschka (sraschka@wisc.edu)  \n",
    "\n",
    "Course website: http://pages.stat.wisc.edu/~sraschka/teaching/stat453-ss2021/  \n",
    "GitHub repository: https://github.com/rasbt/stat453-deep-learning-ss21\n",
    "\n",
    "---"
   ]
  },
  {
   "cell_type": "markdown",
   "metadata": {},
   "source": [
    "# Character RNN"
   ]
  },
  {
   "cell_type": "markdown",
   "metadata": {
    "colab_type": "text",
    "id": "L24QVN8uwirR"
   },
   "source": [
    "A simple character-level RNN to generate new bits of text based on text."
   ]
  },
  {
   "cell_type": "code",
   "execution_count": 1,
   "metadata": {
    "colab": {},
    "colab_type": "code",
    "id": "moNmVfuvnImW"
   },
   "outputs": [
    {
     "name": "stdout",
     "output_type": "stream",
     "text": [
      "Author: Sebastian Raschka\n",
      "\n",
      "Python implementation: CPython\n",
      "Python version       : 3.9.2\n",
      "IPython version      : 7.21.0\n",
      "\n",
      "torch    : 1.8.0\n",
      "torchtext: 0.10.0a0+d2a0776\n",
      "\n"
     ]
    }
   ],
   "source": [
    "%load_ext watermark\n",
    "%watermark -a 'Sebastian Raschka' -v -p torch,torchtext\n",
    "\n",
    "import time\n",
    "import random\n",
    "import unidecode\n",
    "import string\n",
    "import re\n",
    "\n",
    "import matplotlib.pyplot as plt\n",
    "import torch\n",
    "\n",
    "torch.backends.cudnn.deterministic = True"
   ]
  },
  {
   "cell_type": "markdown",
   "metadata": {
    "colab_type": "text",
    "id": "GSRL42Qgy8I8"
   },
   "source": [
    "## General Settings"
   ]
  },
  {
   "cell_type": "code",
   "execution_count": 2,
   "metadata": {
    "colab": {},
    "colab_type": "code",
    "id": "OvW1RgfepCBq"
   },
   "outputs": [
    {
     "name": "stdout",
     "output_type": "stream",
     "text": [
      "Device: cpu\n"
     ]
    }
   ],
   "source": [
    "RANDOM_SEED = 123\n",
    "torch.manual_seed(RANDOM_SEED)\n",
    "\n",
    "DEVICE = torch.device('cpu')\n",
    "\n",
    "TEXT_PORTION_SIZE = 200\n",
    "\n",
    "NUM_ITER = 5000\n",
    "LEARNING_RATE = 0.005\n",
    "EMBEDDING_DIM = 100\n",
    "HIDDEN_DIM = 100\n",
    "NUM_HIDDEN_LAYERS = 1\n",
    "\n",
    "print('Device:', DEVICE)"
   ]
  },
  {
   "cell_type": "markdown",
   "metadata": {
    "colab_type": "text",
    "id": "mQMmKUEisW4W"
   },
   "source": [
    "## Dataset"
   ]
  },
  {
   "cell_type": "markdown",
   "metadata": {
    "colab_type": "text",
    "id": "L-TBwKWPslPa"
   },
   "source": [
    "Convert all characters into ASCII characters provided by `string.printable`:"
   ]
  },
  {
   "cell_type": "code",
   "execution_count": 3,
   "metadata": {
    "colab": {
     "base_uri": "https://localhost:8080/",
     "height": 34
    },
    "colab_type": "code",
    "id": "i8lk0nEnih-x",
    "outputId": "3c9c5cca-55a9-4e7e-a02b-64f8b9cea6c4"
   },
   "outputs": [
    {
     "data": {
      "text/plain": [
       "'0123456789abcdefghijklmnopqrstuvwxyzABCDEFGHIJKLMNOPQRSTUVWXYZ!\"#$%&\\'()*+,-./:;<=>?@[\\\\]^_`{|}~ \\t\\n\\r\\x0b\\x0c'"
      ]
     },
     "execution_count": 3,
     "metadata": {},
     "output_type": "execute_result"
    }
   ],
   "source": [
    "string.printable"
   ]
  },
  {
   "cell_type": "code",
   "execution_count": 4,
   "metadata": {
    "colab": {
     "base_uri": "https://localhost:8080/",
     "height": 34
    },
    "colab_type": "code",
    "id": "e8uNrjdtn4A8",
    "outputId": "28b78ff2-8b68-4fe8-d01e-c27c8692f3ac"
   },
   "outputs": [
    {
     "name": "stdout",
     "output_type": "stream",
     "text": [
      "Number of characters in text: 84658\n"
     ]
    }
   ],
   "source": [
    "with open('covid19-faq.txt', 'r') as f:\n",
    "    textfile = f.read()\n",
    "\n",
    "# convert special characters\n",
    "textfile = unidecode.unidecode(textfile)\n",
    "\n",
    "# strip extra whitespaces\n",
    "textfile = re.sub(' +',' ', textfile)\n",
    "\n",
    "TEXT_LENGTH = len(textfile)\n",
    "\n",
    "print(f'Number of characters in text: {TEXT_LENGTH}')"
   ]
  },
  {
   "cell_type": "markdown",
   "metadata": {
    "colab_type": "text",
    "id": "JpEMNInXtZsb"
   },
   "source": [
    "Divide the text into smaller portions:"
   ]
  },
  {
   "cell_type": "code",
   "execution_count": 5,
   "metadata": {
    "colab": {
     "base_uri": "https://localhost:8080/",
     "height": 68
    },
    "colab_type": "code",
    "id": "i7JiHR1stHNF",
    "outputId": "b99c6a1d-6906-4845-e9fe-20fad9ae9315"
   },
   "outputs": [
    {
     "name": "stdout",
     "output_type": "stream",
     "text": [
      "heck with the vaccine provider.\n",
      "\n",
      "If you're traveling away from Madison before your second dose, we encourage you to get your first dose on campus now and obtain a second dose once you reach your new lo\n"
     ]
    }
   ],
   "source": [
    "random.seed(RANDOM_SEED)\n",
    "\n",
    "def random_portion(textfile):\n",
    "    start_index = random.randint(0, TEXT_LENGTH - TEXT_PORTION_SIZE)\n",
    "    end_index = start_index + TEXT_PORTION_SIZE + 1\n",
    "    return textfile[start_index:end_index]\n",
    "\n",
    "print(random_portion(textfile))"
   ]
  },
  {
   "cell_type": "markdown",
   "metadata": {
    "colab_type": "text",
    "id": "PhZQCuBZkzgm"
   },
   "source": [
    "Define a function to convert characters into tensors of integers (type long):\n"
   ]
  },
  {
   "cell_type": "code",
   "execution_count": 6,
   "metadata": {
    "colab": {
     "base_uri": "https://localhost:8080/",
     "height": 34
    },
    "colab_type": "code",
    "id": "Ga-_g7Ltk479",
    "outputId": "2dd6fcd9-01b4-4910-f57a-812d05b9a4d1"
   },
   "outputs": [
    {
     "name": "stdout",
     "output_type": "stream",
     "text": [
      "tensor([10, 11, 12, 39, 40, 41])\n"
     ]
    }
   ],
   "source": [
    "def char_to_tensor(text):\n",
    "    lst = [string.printable.index(c) for c in text]\n",
    "    tensor = torch.tensor(lst).long()\n",
    "    return tensor\n",
    "\n",
    "print(char_to_tensor('abcDEF'))"
   ]
  },
  {
   "cell_type": "markdown",
   "metadata": {
    "colab_type": "text",
    "id": "ph8OESgtmUqD"
   },
   "source": [
    "Putting it together to make a function that draws random batches for training:"
   ]
  },
  {
   "cell_type": "code",
   "execution_count": 7,
   "metadata": {
    "colab": {},
    "colab_type": "code",
    "id": "U_mVm5LOl95j"
   },
   "outputs": [],
   "source": [
    "def draw_random_sample(textfile):    \n",
    "    text_long = char_to_tensor(random_portion(textfile))\n",
    "    inputs = text_long[:-1]\n",
    "    targets = text_long[1:]\n",
    "    return inputs, targets"
   ]
  },
  {
   "cell_type": "code",
   "execution_count": 8,
   "metadata": {
    "colab": {
     "base_uri": "https://localhost:8080/",
     "height": 425
    },
    "colab_type": "code",
    "id": "uY8FnmSkxGZ-",
    "outputId": "c332573b-5eb4-4367-bc4c-0a9a479aebb3"
   },
   "outputs": [
    {
     "data": {
      "text/plain": [
       "(tensor([ 0, 94, 24, 27, 94, 21, 10, 29, 14, 27, 94, 24, 15, 94, 26, 30, 10, 27,\n",
       "         10, 23, 29, 18, 23, 14, 94, 10, 23, 13, 94, 34, 24, 30, 27, 94, 37, 10,\n",
       "         13, 16, 14, 27, 94, 37, 10, 13, 16, 14, 94, 18, 23, 13, 18, 12, 10, 29,\n",
       "         14, 28, 94, 63, 11, 30, 18, 21, 13, 18, 23, 16, 94, 10, 12, 12, 14, 28,\n",
       "         28, 94, 16, 27, 10, 23, 29, 14, 13, 75, 63, 96, 54, 14, 14, 94, 29, 17,\n",
       "         14, 94, 56, 23, 18, 31, 14, 27, 28, 18, 29, 34, 94, 43, 14, 10, 21, 29,\n",
       "         17, 94, 54, 14, 27, 31, 18, 12, 14, 28, 94, 32, 14, 11, 28, 18, 29, 14,\n",
       "         94, 15, 24, 27, 94, 22, 24, 27, 14, 94, 18, 23, 15, 24, 27, 22, 10, 29,\n",
       "         18, 24, 23, 94, 10, 11, 24, 30, 29, 94, 26, 30, 10, 27, 10, 23, 29, 18,\n",
       "         23, 14, 94, 10, 23, 13, 94, 18, 28, 24, 21, 10, 29, 18, 24, 23, 75, 96,\n",
       "         96, 58, 17, 18, 21, 14, 94,  1,  4, 94, 13, 10, 34, 28, 94, 18, 28, 94,\n",
       "         29, 17]),\n",
       " tensor([94, 24, 27, 94, 21, 10, 29, 14, 27, 94, 24, 15, 94, 26, 30, 10, 27, 10,\n",
       "         23, 29, 18, 23, 14, 94, 10, 23, 13, 94, 34, 24, 30, 27, 94, 37, 10, 13,\n",
       "         16, 14, 27, 94, 37, 10, 13, 16, 14, 94, 18, 23, 13, 18, 12, 10, 29, 14,\n",
       "         28, 94, 63, 11, 30, 18, 21, 13, 18, 23, 16, 94, 10, 12, 12, 14, 28, 28,\n",
       "         94, 16, 27, 10, 23, 29, 14, 13, 75, 63, 96, 54, 14, 14, 94, 29, 17, 14,\n",
       "         94, 56, 23, 18, 31, 14, 27, 28, 18, 29, 34, 94, 43, 14, 10, 21, 29, 17,\n",
       "         94, 54, 14, 27, 31, 18, 12, 14, 28, 94, 32, 14, 11, 28, 18, 29, 14, 94,\n",
       "         15, 24, 27, 94, 22, 24, 27, 14, 94, 18, 23, 15, 24, 27, 22, 10, 29, 18,\n",
       "         24, 23, 94, 10, 11, 24, 30, 29, 94, 26, 30, 10, 27, 10, 23, 29, 18, 23,\n",
       "         14, 94, 10, 23, 13, 94, 18, 28, 24, 21, 10, 29, 18, 24, 23, 75, 96, 96,\n",
       "         58, 17, 18, 21, 14, 94,  1,  4, 94, 13, 10, 34, 28, 94, 18, 28, 94, 29,\n",
       "         17, 14]))"
      ]
     },
     "execution_count": 8,
     "metadata": {},
     "output_type": "execute_result"
    }
   ],
   "source": [
    "draw_random_sample(textfile)"
   ]
  },
  {
   "cell_type": "markdown",
   "metadata": {
    "colab_type": "text",
    "id": "G_grdW3pxCzz"
   },
   "source": [
    "## Model"
   ]
  },
  {
   "cell_type": "code",
   "execution_count": 9,
   "metadata": {
    "colab": {},
    "colab_type": "code",
    "id": "nQIUm5EjxFNa"
   },
   "outputs": [],
   "source": [
    "class RNN(torch.nn.Module):\n",
    "    def __init__(self, input_size, embed_size,\n",
    "                 hidden_size, output_size, num_layers):\n",
    "        super().__init__()\n",
    "\n",
    "        self.hidden_size = hidden_size\n",
    "        self.num_layers = num_layers\n",
    "        \n",
    "        self.embed = torch.nn.Embedding(num_embeddings=input_size,\n",
    "                                        embedding_dim=embed_size)\n",
    "        self.rnn = torch.nn.LSTM(input_size=embed_size,\n",
    "                                 hidden_size=hidden_size,\n",
    "                                 num_layers=num_layers)\n",
    "        self.fc = torch.nn.Linear(hidden_size, output_size)\n",
    "    \n",
    "    def forward(self, features, hidden_and_cell_state):\n",
    "        # text dim: [1] -> [[1]] (features = 1 character)\n",
    "        features = features.view(1, -1)\n",
    "        \n",
    "        # embedded dim = [text length, batch size, embedding dim] = [1, 1, embedding dim]\n",
    "        embedded = self.embed(features)\n",
    "        \n",
    "        output, hidden_and_cell_state = self.rnn(embedded, hidden_and_cell_state)\n",
    "        # 1. output dim: [sentence length, batch size, hidden dim] = [1, 1, hidden dim]\n",
    "        # 2. (last) hidden dim: [num layers, batch size, hidden dim] = [num layers, 1, hidden dim]\n",
    "        # 3. cell dim: [num layers, batch size, hidden dim] = [num layers, 1, hidden dim]\n",
    "        \n",
    "        output.squeeze_(0)\n",
    "        output = self.fc(output)\n",
    "        return output, hidden_and_cell_state\n",
    "      \n",
    "    def init_zero_state(self):\n",
    "        init_hidden = torch.zeros(self.num_layers, 1, self.hidden_size).to(DEVICE)\n",
    "        init_cell = torch.zeros(self.num_layers, 1, self.hidden_size).to(DEVICE)\n",
    "        return (init_hidden, init_cell)"
   ]
  },
  {
   "cell_type": "code",
   "execution_count": 10,
   "metadata": {
    "colab": {},
    "colab_type": "code",
    "id": "Ik3NF3faxFmZ"
   },
   "outputs": [],
   "source": [
    "torch.manual_seed(RANDOM_SEED)\n",
    "model = RNN(len(string.printable), EMBEDDING_DIM, HIDDEN_DIM,\n",
    "            len(string.printable), NUM_HIDDEN_LAYERS)\n",
    "model = model.to(DEVICE)\n",
    "optimizer = torch.optim.Adam(model.parameters(), lr=LEARNING_RATE)"
   ]
  },
  {
   "cell_type": "markdown",
   "metadata": {
    "colab_type": "text",
    "id": "Lv9Ny9di6VcI"
   },
   "source": [
    "## Training"
   ]
  },
  {
   "cell_type": "code",
   "execution_count": 11,
   "metadata": {
    "colab": {},
    "colab_type": "code",
    "id": "x5XlCqm3pMj2"
   },
   "outputs": [],
   "source": [
    "def evaluate(model, prime_str='A', predict_len=100, temperature=0.8):\n",
    "    ## based on https://github.com/spro/practical-pytorch/\n",
    "    ## blob/master/char-rnn-generation/char-rnn-generation.ipynb\n",
    "\n",
    "    hidden_and_cell_state = model.init_zero_state()\n",
    "    prime_input = char_to_tensor(prime_str)\n",
    "    predicted = prime_str\n",
    "\n",
    "    # Use priming string to \"build up\" hidden state\n",
    "    for p in range(len(prime_str) - 1):\n",
    "        _, hidden_and_cell_state = model(prime_input[p].to(DEVICE), hidden_and_cell_state)\n",
    "    inp = prime_input[-1]\n",
    "    \n",
    "    for p in range(predict_len):\n",
    "        output, hidden_and_cell_state = model(inp.to(DEVICE), hidden_and_cell_state)\n",
    "        \n",
    "        # Sample from the network as a multinomial distribution\n",
    "        output_dist = output.data.view(-1).div(temperature).exp()\n",
    "        top_i = torch.multinomial(output_dist, 1)[0]\n",
    "        \n",
    "        # Add predicted character to string and use as next input\n",
    "        predicted_char = string.printable[top_i]\n",
    "        predicted += predicted_char\n",
    "        inp = char_to_tensor(predicted_char)\n",
    "\n",
    "    return predicted"
   ]
  },
  {
   "cell_type": "code",
   "execution_count": 12,
   "metadata": {
    "colab": {
     "base_uri": "https://localhost:8080/",
     "height": 3536
    },
    "colab_type": "code",
    "id": "ZNv7_wE4prjX",
    "outputId": "8ae1c36b-e4e8-4fb6-852d-ac926ad34cb8"
   },
   "outputs": [
    {
     "name": "stdout",
     "output_type": "stream",
     "text": [
      "Time elapsed: 0.00 min\n",
      "Iteration 0 | Loss 4.64\n",
      "\n",
      "\n",
      "ThzgrY\n",
      "$b$)\"zIHHpx;1d0ZT)PgJwoeQxoZ<%hS=(\f",
      "]j%6#VEo,\f",
      "H5}PE=(uj'i6rs1B2:.a$>ZMeQ]iTC/>Ye0)N<92yyW5&Db[m*+09 )DHG};x1\"k.0auIT:6bWkWP[\f",
      "HSWlNf`Dag\n",
      " <|Y\u000b",
      "%ID73v\"_U\t0]c\f",
      "zB=\n",
      "w?Uo72@C#/VjHB\t7\u000b",
      "\f",
      "#nllLE w?y&_# dNz9g \n",
      "\n",
      "==================================================\n",
      "Time elapsed: 0.18 min\n",
      "Iteration 200 | Loss 2.16\n",
      "\n",
      "\n",
      "Thappto COVID-19 ining bus a thay an can in an galding earctione campus ases..\n",
      "Therume ratitior. Yunbe C2)(ailuss the ant and fots ane, to parching Vof stay of app cams bafible sot accing the.\n",
      "In is and \n",
      "\n",
      "==================================================\n",
      "Time elapsed: 0.37 min\n",
      "Iteration 400 | Loss 2.29\n",
      "\n",
      "\n",
      "Th-als \"immus from ans will pose arne thead to you app ento a natited for as or thin clmoutive test entin neing or and froblo or thoy the for they Sialt fquare not an your or wharding bivimison consin c \n",
      "\n",
      "==================================================\n",
      "Time elapsed: 0.55 min\n",
      "Iteration 600 | Loss 1.85\n",
      "\n",
      "\n",
      "Thist or 7accus intust your indito redice shouls as record to in and indicativing unding baily you chan and or to relonsty they be accestificatitions motuct the Wiscest resintir a sate result altions is \n",
      "\n",
      "==================================================\n",
      "Time elapsed: 0.73 min\n",
      "Iteration 800 | Loss 1.50\n",
      "\n",
      "\n",
      "Thation comeleg-based geen the webd to beed in Recont paes. A sare fits, and on conalitions on campus intrudents reconts inated at cearth Betare app are comered piil testing best in test Povications, ac \n",
      "\n",
      "==================================================\n",
      "Time elapsed: 0.91 min\n",
      "Iteration 1000 | Loss 1.61\n",
      "\n",
      "\n",
      "Thin test in the these you reduling supervity to trans is shote moning will conting the commutives should test the for and troram to to then the for more in to eneronts to stare is to supeive whi a bemp \n",
      "\n",
      "==================================================\n",
      "Time elapsed: 1.09 min\n",
      "Iteration 1200 | Loss 1.45\n",
      "\n",
      "\n",
      "Thedure trave serve as not dorase of Jhel and not side notre azy and reconts.\n",
      "\n",
      "No. We have intests, test prack take more your stame are a pucation exposting is their Badgersions sconts.\n",
      "\n",
      "No as approvide \n",
      "\n",
      "==================================================\n",
      "Time elapsed: 1.26 min\n",
      "Iteration 1400 | Loss 1.33\n",
      "\n",
      "\n",
      "Thare not our caltepu employee in allow have need.\n",
      "\n",
      "If you should should applice notifect test aro testing negor Badger instruction or wehing a negative soure for vaccing grant in return thew to call be \n",
      "\n",
      "==================================================\n",
      "Time elapsed: 1.44 min\n",
      "Iteration 1600 | Loss 1.64\n",
      "\n",
      "\n",
      "This. You to campus programmung and musitorsing of the unit collable scrach station fire botring and a neemon result weremain liking test then long comesting..\n",
      "\n",
      "COVID-19 test frealth weak be aday notion \n",
      "\n",
      "==================================================\n",
      "Time elapsed: 1.62 min\n",
      "Iteration 1800 | Loss 1.41\n",
      "\n",
      "\n",
      "The are fuch test public campus infore to people allowarn sure in the will need to and if your is distance.\n",
      "\n",
      "COVID testing will need to requires in the visitor testing the plocications are not feew imev \n",
      "\n",
      "==================================================\n",
      "Time elapsed: 1.80 min\n",
      "Iteration 2000 | Loss 1.13\n",
      "\n",
      "\n",
      "The campus contsinew on app, exposure tests submeming when to contact the to g notifilation of the Safer Bluetase and app usible to the Exclosk to a based who heder.\n",
      "\n",
      "You traveling on-campus meethes to  \n",
      "\n",
      "==================================================\n",
      "Time elapsed: 1.98 min\n",
      "Iteration 2200 | Loss 1.35\n",
      "\n",
      "\n",
      "The syplade track to some addition their inclived. From their Badger Badger Badger Badge will even dieare addived test track (in to are ensumalson campus for COVID-19 preversiat reguls for addings.\n",
      "\n",
      "Mon \n",
      "\n",
      "==================================================\n",
      "Time elapsed: 2.15 min\n",
      "Iteration 2400 | Loss 1.49\n",
      "\n",
      "\n",
      "This studing semptoms relation or monitors to complessible and will be and accom the \"after on these you will be and resuldets that you dosure of a distice salivacy from to of an in covery on-cased both \n",
      "\n",
      "==================================================\n",
      "Time elapsed: 2.33 min\n",
      "Iteration 2600 | Loss 1.38\n",
      "\n",
      "\n",
      "The fulated locations of allow result on the Measely PDRC.\n",
      "\n",
      "COVID-19 vaccines, gracting vaccine, will have a will as redgentals on the be a campus after and for particals and has testing abours.\n",
      "\n",
      "We, al \n",
      "\n",
      "==================================================\n",
      "Time elapsed: 2.51 min\n",
      "Iteration 2800 | Loss 1.25\n",
      "\n",
      "\n",
      "Ths wherem. You more a pressen or limited uplown the showing is list insitments faccination or in the received the the reprevelow test this April some received. In, more to testing result the Badge will \n",
      "\n",
      "==================================================\n",
      "Time elapsed: 2.68 min\n",
      "Iteration 3000 | Loss 1.26\n",
      "\n",
      "\n",
      "This facilities building their in their spreading. Adious a quarantines 8 days who may seek and need to gere of the test results. If you will be entrance recomiffect test.\n",
      "\n",
      "If you have entrable wever va \n",
      "\n",
      "==================================================\n",
      "Time elapsed: 2.86 min\n",
      "Iteration 3200 | Loss 1.86\n",
      "\n",
      "\n",
      "Thistance positive remote Health Services are eligibility you a COVID-19 to getting poliole possible Las should complines who a COVID-19 test receive to have but a. (Copves a sogning it the positive you \n",
      "\n",
      "==================================================\n",
      "Time elapsed: 3.04 min\n",
      "Iteration 3400 | Loss 1.16\n",
      "\n",
      "\n",
      "This are be for more sage symptoms of find positivication the Madison sthere a posited access at COVID-19, symptoms site employees immederation or state obties when to if yourull, somen policipation to  \n",
      "\n",
      "==================================================\n",
      "Time elapsed: 3.22 min\n",
      "Iteration 3600 | Loss 1.47\n",
      "\n",
      "\n",
      "Through to contact this health possiblect as meatutive not access to test.\n",
      "\n",
      "Peer Badgers, but on campus building accommanation (mod employees mod effects.\n",
      "\n",
      "The vicinities to part on campus bus app the s \n",
      "\n",
      "==================================================\n",
      "Time elapsed: 3.40 min\n",
      "Iteration 3800 | Loss 1.11\n",
      "\n",
      "\n",
      "Thancine require parge tested on the hour been imployees with the test or able their undere a fedate entrance of testing within the new to tested dow into a medical work in onder if your the monitor imp \n",
      "\n",
      "==================================================\n",
      "Time elapsed: 3.58 min\n",
      "Iteration 4000 | Loss 1.54\n",
      "\n",
      "\n",
      "The beling lens that been and dose of your Badge appointored so not contact an in order. Properson and PAss saliva pooside to possing as time of the you located baild procerding as positive for to perio \n",
      "\n",
      "==================================================\n",
      "Time elapsed: 3.76 min\n",
      "Iteration 4200 | Loss 1.28\n",
      "\n",
      "\n",
      "Thas are used to provided vial entrance, appointment of a COVID-19, ar were entructions, they to seek result other instructions with this should so tranter use the health is no work only encurects grave \n",
      "\n",
      "==================================================\n",
      "Time elapsed: 3.94 min\n",
      "Iteration 4400 | Loss 0.97\n",
      "\n",
      "\n",
      "This wear building person being you are selfication tests to test campus in a find which ggall, Pfizer will receive secoll have test you receive including in campus building or leact can use to period c \n",
      "\n",
      "==================================================\n",
      "Time elapsed: 4.11 min\n",
      "Iteration 4600 | Loss 1.27\n",
      "\n",
      "\n",
      "The safers to public health for the Safer Badger Badge will pain to users policy employees allow these sequest through the app and has bus face in the app symptoms on the phisare on theow Safer Badgers  \n",
      "\n",
      "==================================================\n",
      "Time elapsed: 4.29 min\n",
      "Iteration 4800 | Loss 1.00\n",
      "\n",
      "\n",
      "This sharements the sure test on the earning instructed to quaranties from the policy or allow you the the Miny possible trasrang\n",
      "UW-Madisonts accommousid your Badgers of campus with accommade). Using a \n",
      "\n",
      "==================================================\n"
     ]
    },
    {
     "data": {
      "image/png": "[encoded data removed]",
      "text/plain": [
       "<Figure size 432x288 with 1 Axes>"
      ]
     },
     "metadata": {
      "needs_background": "light"
     },
     "output_type": "display_data"
    }
   ],
   "source": [
    "start_time = time.time()\n",
    "\n",
    "loss_list = []\n",
    "\n",
    "for iteration in range(NUM_ITER):\n",
    "\n",
    "    hidden_and_cell_state = model.init_zero_state()\n",
    "    optimizer.zero_grad()\n",
    "    \n",
    "    loss = 0.\n",
    "    inputs, targets = draw_random_sample(textfile)\n",
    "    inputs, targets = inputs.to(DEVICE), targets.to(DEVICE)\n",
    "    for c in range(TEXT_PORTION_SIZE):\n",
    "        outputs, hidden_and_cell_state = model(inputs[c], hidden_and_cell_state)\n",
    "        loss += torch.nn.functional.cross_entropy(outputs, targets[c].view(1))\n",
    "\n",
    "    loss /= TEXT_PORTION_SIZE\n",
    "    loss.backward()\n",
    "    \n",
    "    ### UPDATE MODEL PARAMETERS\n",
    "    optimizer.step()\n",
    "\n",
    "    ### LOGGING\n",
    "    with torch.no_grad():\n",
    "        if iteration % 200 == 0:\n",
    "            print(f'Time elapsed: {(time.time() - start_time)/60:.2f} min')\n",
    "            print(f'Iteration {iteration} | Loss {loss.item():.2f}\\n\\n')\n",
    "            print(evaluate(model, 'Th', 200), '\\n')\n",
    "            print(50*'=')\n",
    "            \n",
    "            loss_list.append(loss.item())\n",
    "            plt.clf()\n",
    "            plt.plot(range(len(loss_list)), loss_list)\n",
    "            plt.ylabel('Loss')\n",
    "            plt.xlabel('Iteration x 1000')\n",
    "            plt.savefig('loss2.pdf')\n",
    "            \n",
    "plt.clf()\n",
    "plt.ylabel('Loss')\n",
    "plt.xlabel('Iteration x 1000')\n",
    "plt.plot(range(len(loss_list)), loss_list)\n",
    "plt.show()"
   ]
  }
 ],
 "metadata": {
  "accelerator": "GPU",
  "colab": {
   "collapsed_sections": [],
   "name": "char-rnn.ipynb",
   "provenance": [],
   "version": "0.3.2"
  },
  "kernelspec": {
   "display_name": "Python 3",
   "language": "python",
   "name": "python3"
  },
  "language_info": {
   "codemirror_mode": {
    "name": "ipython",
    "version": 3
   },
   "file_extension": ".py",
   "mimetype": "text/x-python",
   "name": "python",
   "nbconvert_exporter": "python",
   "pygments_lexer": "ipython3",
   "version": "3.9.2"
  }
 },
 "nbformat": 4,
 "nbformat_minor": 4
}
