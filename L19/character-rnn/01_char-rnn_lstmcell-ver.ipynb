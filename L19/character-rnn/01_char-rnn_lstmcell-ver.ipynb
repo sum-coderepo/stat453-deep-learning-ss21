{
 "cells": [
  {
   "cell_type": "markdown",
   "metadata": {},
   "source": [
    "STAT 453: Deep Learning (Spring 2021)  \n",
    "Instructor: Sebastian Raschka (sraschka@wisc.edu)  \n",
    "\n",
    "Course website: http://pages.stat.wisc.edu/~sraschka/teaching/stat453-ss2021/  \n",
    "GitHub repository: https://github.com/rasbt/stat453-deep-learning-ss21\n",
    "\n",
    "---"
   ]
  },
  {
   "cell_type": "markdown",
   "metadata": {},
   "source": [
    "# Character RNN"
   ]
  },
  {
   "cell_type": "markdown",
   "metadata": {
    "colab_type": "text",
    "id": "L24QVN8uwirR"
   },
   "source": [
    "A simple character-level RNN to generate new bits of text based on text."
   ]
  },
  {
   "cell_type": "code",
   "execution_count": 1,
   "metadata": {
    "colab": {},
    "colab_type": "code",
    "id": "moNmVfuvnImW"
   },
   "outputs": [
    {
     "name": "stdout",
     "output_type": "stream",
     "text": [
      "Author: Sebastian Raschka\n",
      "\n",
      "Python implementation: CPython\n",
      "Python version       : 3.9.2\n",
      "IPython version      : 7.21.0\n",
      "\n",
      "torch    : 1.8.0\n",
      "torchtext: 0.10.0a0+d2a0776\n",
      "\n"
     ]
    }
   ],
   "source": [
    "%load_ext watermark\n",
    "%watermark -a 'Sebastian Raschka' -v -p torch,torchtext\n",
    "\n",
    "import time\n",
    "import random\n",
    "import unidecode\n",
    "import string\n",
    "import re\n",
    "\n",
    "import matplotlib.pyplot as plt\n",
    "import torch\n",
    "\n",
    "torch.backends.cudnn.deterministic = True"
   ]
  },
  {
   "cell_type": "markdown",
   "metadata": {
    "colab_type": "text",
    "id": "GSRL42Qgy8I8"
   },
   "source": [
    "## General Settings"
   ]
  },
  {
   "cell_type": "code",
   "execution_count": 2,
   "metadata": {
    "colab": {},
    "colab_type": "code",
    "id": "OvW1RgfepCBq"
   },
   "outputs": [
    {
     "name": "stdout",
     "output_type": "stream",
     "text": [
      "Device: cpu\n"
     ]
    }
   ],
   "source": [
    "RANDOM_SEED = 123\n",
    "torch.manual_seed(RANDOM_SEED)\n",
    "\n",
    "DEVICE = torch.device('cpu')\n",
    "\n",
    "TEXT_PORTION_SIZE = 200\n",
    "\n",
    "NUM_ITER = 5000\n",
    "LEARNING_RATE = 0.005\n",
    "EMBEDDING_DIM = 100\n",
    "HIDDEN_DIM = 128\n",
    "\n",
    "print('Device:', DEVICE)"
   ]
  },
  {
   "cell_type": "markdown",
   "metadata": {
    "colab_type": "text",
    "id": "mQMmKUEisW4W"
   },
   "source": [
    "## Dataset"
   ]
  },
  {
   "cell_type": "markdown",
   "metadata": {
    "colab_type": "text",
    "id": "L-TBwKWPslPa"
   },
   "source": [
    "Convert all characters into ASCII characters provided by `string.printable`:"
   ]
  },
  {
   "cell_type": "code",
   "execution_count": 5,
   "metadata": {
    "colab": {
     "base_uri": "https://localhost:8080/",
     "height": 34
    },
    "colab_type": "code",
    "id": "i8lk0nEnih-x",
    "outputId": "3c9c5cca-55a9-4e7e-a02b-64f8b9cea6c4"
   },
   "outputs": [
    {
     "data": {
      "text/plain": [
       "'0123456789abcdefghijklmnopqrstuvwxyzABCDEFGHIJKLMNOPQRSTUVWXYZ!\"#$%&\\'()*+,-./:;<=>?@[\\\\]^_`{|}~ \\t\\n\\r\\x0b\\x0c'"
      ]
     },
     "execution_count": 5,
     "metadata": {},
     "output_type": "execute_result"
    }
   ],
   "source": [
    "string.printable"
   ]
  },
  {
   "cell_type": "code",
   "execution_count": 6,
   "metadata": {
    "colab": {
     "base_uri": "https://localhost:8080/",
     "height": 34
    },
    "colab_type": "code",
    "id": "e8uNrjdtn4A8",
    "outputId": "28b78ff2-8b68-4fe8-d01e-c27c8692f3ac"
   },
   "outputs": [
    {
     "name": "stdout",
     "output_type": "stream",
     "text": [
      "Number of characters in text: 84658\n"
     ]
    }
   ],
   "source": [
    "with open('covid19-faq.txt', 'r') as f:\n",
    "    textfile = f.read()\n",
    "\n",
    "# convert special characters\n",
    "textfile = unidecode.unidecode(textfile)\n",
    "\n",
    "# strip extra whitespaces\n",
    "textfile = re.sub(' +',' ', textfile)\n",
    "\n",
    "TEXT_LENGTH = len(textfile)\n",
    "\n",
    "print(f'Number of characters in text: {TEXT_LENGTH}')"
   ]
  },
  {
   "cell_type": "markdown",
   "metadata": {
    "colab_type": "text",
    "id": "JpEMNInXtZsb"
   },
   "source": [
    "Divide the text into smaller portions:"
   ]
  },
  {
   "cell_type": "code",
   "execution_count": 7,
   "metadata": {
    "colab": {
     "base_uri": "https://localhost:8080/",
     "height": 68
    },
    "colab_type": "code",
    "id": "i7JiHR1stHNF",
    "outputId": "b99c6a1d-6906-4845-e9fe-20fad9ae9315"
   },
   "outputs": [
    {
     "name": "stdout",
     "output_type": "stream",
     "text": [
      "heck with the vaccine provider.\n",
      "\n",
      "If you're traveling away from Madison before your second dose, we encourage you to get your first dose on campus now and obtain a second dose once you reach your new lo\n"
     ]
    }
   ],
   "source": [
    "random.seed(RANDOM_SEED)\n",
    "\n",
    "def random_portion(textfile):\n",
    "    start_index = random.randint(0, TEXT_LENGTH - TEXT_PORTION_SIZE)\n",
    "    end_index = start_index + TEXT_PORTION_SIZE + 1\n",
    "    return textfile[start_index:end_index]\n",
    "\n",
    "print(random_portion(textfile))"
   ]
  },
  {
   "cell_type": "markdown",
   "metadata": {
    "colab_type": "text",
    "id": "PhZQCuBZkzgm"
   },
   "source": [
    "Define a function to convert characters into tensors of integers (type long):\n"
   ]
  },
  {
   "cell_type": "code",
   "execution_count": 8,
   "metadata": {
    "colab": {
     "base_uri": "https://localhost:8080/",
     "height": 34
    },
    "colab_type": "code",
    "id": "Ga-_g7Ltk479",
    "outputId": "2dd6fcd9-01b4-4910-f57a-812d05b9a4d1"
   },
   "outputs": [
    {
     "name": "stdout",
     "output_type": "stream",
     "text": [
      "tensor([10, 11, 12, 39, 40, 41])\n"
     ]
    }
   ],
   "source": [
    "def char_to_tensor(text):\n",
    "    lst = [string.printable.index(c) for c in text]\n",
    "    tensor = torch.tensor(lst).long()\n",
    "    return tensor\n",
    "\n",
    "print(char_to_tensor('abcDEF'))"
   ]
  },
  {
   "cell_type": "markdown",
   "metadata": {
    "colab_type": "text",
    "id": "ph8OESgtmUqD"
   },
   "source": [
    "Putting it together to make a function that draws random batches for training:"
   ]
  },
  {
   "cell_type": "code",
   "execution_count": 9,
   "metadata": {
    "colab": {},
    "colab_type": "code",
    "id": "U_mVm5LOl95j"
   },
   "outputs": [],
   "source": [
    "def draw_random_sample(textfile):    \n",
    "    text_long = char_to_tensor(random_portion(textfile))\n",
    "    inputs = text_long[:-1]\n",
    "    targets = text_long[1:]\n",
    "    return inputs, targets"
   ]
  },
  {
   "cell_type": "code",
   "execution_count": 10,
   "metadata": {
    "colab": {
     "base_uri": "https://localhost:8080/",
     "height": 425
    },
    "colab_type": "code",
    "id": "uY8FnmSkxGZ-",
    "outputId": "c332573b-5eb4-4367-bc4c-0a9a479aebb3"
   },
   "outputs": [
    {
     "data": {
      "text/plain": [
       "(tensor([ 0, 94, 24, 27, 94, 21, 10, 29, 14, 27, 94, 24, 15, 94, 26, 30, 10, 27,\n",
       "         10, 23, 29, 18, 23, 14, 94, 10, 23, 13, 94, 34, 24, 30, 27, 94, 37, 10,\n",
       "         13, 16, 14, 27, 94, 37, 10, 13, 16, 14, 94, 18, 23, 13, 18, 12, 10, 29,\n",
       "         14, 28, 94, 63, 11, 30, 18, 21, 13, 18, 23, 16, 94, 10, 12, 12, 14, 28,\n",
       "         28, 94, 16, 27, 10, 23, 29, 14, 13, 75, 63, 96, 54, 14, 14, 94, 29, 17,\n",
       "         14, 94, 56, 23, 18, 31, 14, 27, 28, 18, 29, 34, 94, 43, 14, 10, 21, 29,\n",
       "         17, 94, 54, 14, 27, 31, 18, 12, 14, 28, 94, 32, 14, 11, 28, 18, 29, 14,\n",
       "         94, 15, 24, 27, 94, 22, 24, 27, 14, 94, 18, 23, 15, 24, 27, 22, 10, 29,\n",
       "         18, 24, 23, 94, 10, 11, 24, 30, 29, 94, 26, 30, 10, 27, 10, 23, 29, 18,\n",
       "         23, 14, 94, 10, 23, 13, 94, 18, 28, 24, 21, 10, 29, 18, 24, 23, 75, 96,\n",
       "         96, 58, 17, 18, 21, 14, 94,  1,  4, 94, 13, 10, 34, 28, 94, 18, 28, 94,\n",
       "         29, 17]),\n",
       " tensor([94, 24, 27, 94, 21, 10, 29, 14, 27, 94, 24, 15, 94, 26, 30, 10, 27, 10,\n",
       "         23, 29, 18, 23, 14, 94, 10, 23, 13, 94, 34, 24, 30, 27, 94, 37, 10, 13,\n",
       "         16, 14, 27, 94, 37, 10, 13, 16, 14, 94, 18, 23, 13, 18, 12, 10, 29, 14,\n",
       "         28, 94, 63, 11, 30, 18, 21, 13, 18, 23, 16, 94, 10, 12, 12, 14, 28, 28,\n",
       "         94, 16, 27, 10, 23, 29, 14, 13, 75, 63, 96, 54, 14, 14, 94, 29, 17, 14,\n",
       "         94, 56, 23, 18, 31, 14, 27, 28, 18, 29, 34, 94, 43, 14, 10, 21, 29, 17,\n",
       "         94, 54, 14, 27, 31, 18, 12, 14, 28, 94, 32, 14, 11, 28, 18, 29, 14, 94,\n",
       "         15, 24, 27, 94, 22, 24, 27, 14, 94, 18, 23, 15, 24, 27, 22, 10, 29, 18,\n",
       "         24, 23, 94, 10, 11, 24, 30, 29, 94, 26, 30, 10, 27, 10, 23, 29, 18, 23,\n",
       "         14, 94, 10, 23, 13, 94, 18, 28, 24, 21, 10, 29, 18, 24, 23, 75, 96, 96,\n",
       "         58, 17, 18, 21, 14, 94,  1,  4, 94, 13, 10, 34, 28, 94, 18, 28, 94, 29,\n",
       "         17, 14]))"
      ]
     },
     "execution_count": 10,
     "metadata": {},
     "output_type": "execute_result"
    }
   ],
   "source": [
    "draw_random_sample(textfile)"
   ]
  },
  {
   "cell_type": "markdown",
   "metadata": {
    "colab_type": "text",
    "id": "G_grdW3pxCzz"
   },
   "source": [
    "## Model"
   ]
  },
  {
   "cell_type": "code",
   "execution_count": 11,
   "metadata": {
    "colab": {},
    "colab_type": "code",
    "id": "nQIUm5EjxFNa"
   },
   "outputs": [],
   "source": [
    "class RNN(torch.nn.Module):\n",
    "    def __init__(self, input_size, embed_size,\n",
    "                 hidden_size, output_size):\n",
    "        super().__init__()\n",
    "\n",
    "        self.hidden_size = hidden_size\n",
    "        \n",
    "        self.embed = torch.nn.Embedding(num_embeddings=input_size,\n",
    "                                        embedding_dim=embed_size)\n",
    "        self.rnn = torch.nn.LSTMCell(input_size=embed_size,\n",
    "                                     hidden_size=hidden_size)\n",
    "        self.fc = torch.nn.Linear(hidden_size, output_size)\n",
    "    \n",
    "    def forward(self, character, hidden, cell_state):\n",
    "        # expects character as size [batch_size, 1]\n",
    "    \n",
    "        # [batch size, embedding dim] = [1, embedding dim]\n",
    "        embedded = self.embed(character)\n",
    "\n",
    "        (hidden, cell_state) = self.rnn(embedded, (hidden, cell_state))\n",
    "        # 1. output dim: [batch size, output_size] = [1, output_size]\n",
    "        # 2. hidden dim: [batch size, hidden dim] = [1, hidden dim]\n",
    "        # 3. cell dim: [batch size, hidden dim] = [1, hidden dim]\n",
    "\n",
    "        output = self.fc(hidden)\n",
    "\n",
    "        return output, hidden, cell_state\n",
    "      \n",
    "    def init_zero_state(self):\n",
    "        init_hidden = torch.zeros(1, self.hidden_size).to(DEVICE)\n",
    "        init_cell = torch.zeros(1, self.hidden_size).to(DEVICE)\n",
    "        return (init_hidden, init_cell)"
   ]
  },
  {
   "cell_type": "code",
   "execution_count": 12,
   "metadata": {
    "colab": {},
    "colab_type": "code",
    "id": "Ik3NF3faxFmZ"
   },
   "outputs": [],
   "source": [
    "torch.manual_seed(RANDOM_SEED)\n",
    "model = RNN(len(string.printable), EMBEDDING_DIM, HIDDEN_DIM, len(string.printable))\n",
    "model = model.to(DEVICE)\n",
    "optimizer = torch.optim.Adam(model.parameters(), lr=LEARNING_RATE)"
   ]
  },
  {
   "cell_type": "markdown",
   "metadata": {
    "colab_type": "text",
    "id": "Lv9Ny9di6VcI"
   },
   "source": [
    "## Training"
   ]
  },
  {
   "cell_type": "code",
   "execution_count": 13,
   "metadata": {
    "colab": {},
    "colab_type": "code",
    "id": "x5XlCqm3pMj2"
   },
   "outputs": [],
   "source": [
    "def evaluate(model, prime_str='A', predict_len=100, temperature=0.8):\n",
    "    ## based on https://github.com/spro/practical-pytorch/\n",
    "    ## blob/master/char-rnn-generation/char-rnn-generation.ipynb\n",
    "\n",
    "    (hidden, cell_state) = model.init_zero_state()\n",
    "    prime_input = char_to_tensor(prime_str)\n",
    "    predicted = prime_str\n",
    "\n",
    "    # Use priming string to \"build up\" hidden state\n",
    "    for p in range(len(prime_str) - 1):\n",
    "        inp = prime_input[p].unsqueeze(0)\n",
    "        _, hidden, cell_state = model(inp.to(DEVICE), hidden, cell_state)\n",
    "    inp = prime_input[-1].unsqueeze(0)\n",
    "    \n",
    "    for p in range(predict_len):\n",
    "\n",
    "        outputs, hidden, cell_state = model(inp.to(DEVICE), hidden, cell_state)\n",
    "        \n",
    "        # Sample from the network as a multinomial distribution\n",
    "        output_dist = outputs.data.view(-1).div(temperature).exp() # e^{logits / T}\n",
    "        top_i = torch.multinomial(output_dist, 1)[0]\n",
    "        \n",
    "        # Add predicted character to string and use as next input\n",
    "        predicted_char = string.printable[top_i]\n",
    "        predicted += predicted_char\n",
    "        inp = char_to_tensor(predicted_char)\n",
    "\n",
    "    return predicted"
   ]
  },
  {
   "cell_type": "code",
   "execution_count": 14,
   "metadata": {
    "colab": {
     "base_uri": "https://localhost:8080/",
     "height": 3536
    },
    "colab_type": "code",
    "id": "ZNv7_wE4prjX",
    "outputId": "8ae1c36b-e4e8-4fb6-852d-ac926ad34cb8"
   },
   "outputs": [
    {
     "name": "stdout",
     "output_type": "stream",
     "text": [
      "Time elapsed: 0.00 min\n",
      "Iteration 0 | Loss 4.63\n",
      "\n",
      "\n",
      "ThA\n",
      "C8(_NWmsdcrx~\n",
      "AGq40uWn\"?LY\"B5Ckl]7C~=\tR\n",
      "n&u8Wor*K\\/=u;+M0|~@]2L\f",
      "q\n",
      "pYn^.06Bv\tK=Uqv:3Wmw`^C!OUMY\n",
      "K7;&eHG{_K\n",
      " (#=uF+Rn%%nzh*`w'f+31:2zMiS!SV/nZu<]3>EoI!Rb*M,f`:M]r\u000b",
      "]*jkgUQVg\u000b",
      "O=nJ_CM1q\n",
      "\n",
      "==================================================\n",
      "Time elapsed: 0.19 min\n",
      "Iteration 200 | Loss 2.08\n",
      "\n",
      "\n",
      "The cablici mestainal the al coplity your be and ants doy haplate rentranty resil the to stunts pare the the antain untd yout als the resest in will Cuke bition expouts gill fallern in vafinite ap and a \n",
      "\n",
      "==================================================\n",
      "Time elapsed: 0.38 min\n",
      "Iteration 400 | Loss 2.07\n",
      "\n",
      "\n",
      "The need wrew working this the for procting whorving test eadind comployeeallo neeftted by impust as sprocal wollan app becore the sullen to so feding to be entrend will be entrant the have will to noth \n",
      "\n",
      "==================================================\n",
      "Time elapsed: 0.57 min\n",
      "Iteration 600 | Loss 1.76\n",
      "\n",
      "\n",
      "Th us will beppa required a remative to student a restment reture an tive vadgers ass a to students. Sturtivise onst reasing to live you's of a regatrivating haschat a campus and gat is prividuration on \n",
      "\n",
      "==================================================\n",
      "Time elapsed: 0.76 min\n",
      "Iteration 800 | Loss 1.43\n",
      "\n",
      "\n",
      "Thick of your as have it be a be relit dester for and a the vaccination reasy.\n",
      "\n",
      "In. We ad the 15 dated waby used cord resuate of care cankens a test follow in phonages. Anter possis ote proder Badger an \n",
      "\n",
      "==================================================\n",
      "Time elapsed: 0.95 min\n",
      "Iteration 1000 | Loss 1.56\n",
      "\n",
      "\n",
      "Thing in informations promation tested intrese Hoution can all The partic to exposite and to can for resulth semennonticipal in position the when where or dats.\n",
      "\n",
      "Employees are wA avaling when all your l \n",
      "\n",
      "==================================================\n",
      "Time elapsed: 1.14 min\n",
      "Iteration 1200 | Loss 1.33\n",
      "\n",
      "\n",
      "Thile hoursit side on campus anagact able distain of heate or a campus to be as the Modersance to stain the campus need to esing COVID-19--COVID-19 action they or to as is on campus PCID--19 to salivate \n",
      "\n",
      "==================================================\n",
      "Time elapsed: 1.32 min\n",
      "Iteration 1400 | Loss 1.29\n",
      "\n",
      "\n",
      "The Safer Badger Badgers app does notifize.\n",
      "\n",
      "Click able to manage, contment of the Safer Badgers audand reaces in vaccine campus, you should for students of the should the vising apprids. In distampus.\n",
      " \n",
      "\n",
      "==================================================\n",
      "Time elapsed: 1.51 min\n",
      "Iteration 1600 | Loss 1.53\n",
      "\n",
      "\n",
      "The Wisconsing, opinity, you may have you required in also are will help you regiving a amount. All at public to a receivenients of COVID-19 testing weeking by negative to the Weslet a building meable t \n",
      "\n",
      "==================================================\n",
      "Time elapsed: 1.70 min\n",
      "Iteration 1800 | Loss 1.37\n",
      "\n",
      "\n",
      "The fill can a result the exemptoms and the UW-Madisons and as if these in Necailitions, and provider your sw the results, their notification (a campus testing campus (iss and recenter their notified on \n",
      "\n",
      "==================================================\n",
      "Time elapsed: 1.89 min\n",
      "Iteration 2000 | Loss 1.03\n",
      "\n",
      "\n",
      "The impor access Deplet to inlide with offers COVID-19-spersons to that be in use for more as the previons. The mains a fith werk the policies trand provider to vaccination of the ball campus to you are \n",
      "\n",
      "==================================================\n",
      "Time elapsed: 2.08 min\n",
      "Iteration 2200 | Loss 1.17\n",
      "\n",
      "\n",
      "Ther test visitoried a sublic contact their work within the suchither the week an experiencen in considend testing and are additia the Badge add to can reading the University Health deligibilition in th \n",
      "\n",
      "==================================================\n",
      "Time elapsed: 2.26 min\n",
      "Iteration 2400 | Loss 1.40\n",
      "\n",
      "\n",
      "The moricabsed students about your contact notifically in their for one or unarances abdolicity from a the sedually posting program of your virus negative a fild. Assilil and should more unizadition.\n",
      "\n",
      "Y \n",
      "\n",
      "==================================================\n",
      "Time elapsed: 2.45 min\n",
      "Iteration 2600 | Loss 1.31\n",
      "\n",
      "\n",
      "Thersity, are protect site.\n",
      "\n",
      "Yes, you get test of the Modrovation and stable appointment a completaining buildings when you receiveline providers of vaccination at and procedures off campus, you follo n \n",
      "\n",
      "==================================================\n",
      "Time elapsed: 2.64 min\n",
      "Iteration 2800 | Loss 1.19\n",
      "\n",
      "\n",
      "Thing remaining your be requirements, when the University Health Servicess shot.\n",
      "\n",
      "If you contriaged to requiremation or COVID-19, the excessional sine approvideline, when vaccination in your virurs is s \n",
      "\n",
      "==================================================\n",
      "Time elapsed: 2.82 min\n",
      "Iteration 3000 | Loss 1.20\n",
      "\n",
      "\n",
      "Thos for withis singlet on the testing Disability need to fied to have a safe vaccine for a reasonal hours to cangear positivity to entrance such an at locate is not a red to enter the Nick entrance hav \n",
      "\n",
      "==================================================\n",
      "Time elapsed: 3.01 min\n",
      "Iteration 3200 | Loss 1.68\n",
      "\n",
      "\n",
      "The emeetive about 48, days (1920 hours in data statrons are locaturings or quarantine and the spring travel Having a schedule. Beginning you suppliencial question for a symptoms on the Badgers app's ab \n",
      "\n",
      "==================================================\n",
      "Time elapsed: 3.21 min\n",
      "Iteration 3400 | Loss 1.07\n",
      "\n",
      "\n",
      "There the vaccine and dronmend students.wisc.edumpting exposure to instructions.\n",
      "\n",
      "Yes, you rescommonting in the COVID-19 at a negative evider a providers to retweed the to the vaccine arances up to resu \n",
      "\n",
      "==================================================\n",
      "Time elapsed: 3.40 min\n",
      "Iteration 3600 | Loss 1.40\n",
      "\n",
      "\n",
      "The negative testing to test within the COVID-19 Immunization if you are all contact test of the WeSame to due to the COVID-19 test on additional except time to get test.\n",
      "\n",
      "The faculty or wail as individ \n",
      "\n",
      "==================================================\n",
      "Time elapsed: 3.59 min\n",
      "Iteration 3800 | Loss 1.02\n",
      "\n",
      "\n",
      "Ther vaccination at encouraging tokens, your CARES As a posirity to chate your policies to including an including tested offer Badger Badgers app or a someone your COVID-19. Badge about onfers of a safe \n",
      "\n",
      "==================================================\n",
      "Time elapsed: 3.78 min\n",
      "Iteration 4000 | Loss 1.36\n",
      "\n",
      "\n",
      "The test covering testing physical do severe you should qualials and status tracult.)\n",
      "\n",
      "If the Johe availabilities while (not contact the supervisors of this for the process for because this seek to test \n",
      "\n",
      "==================================================\n",
      "Time elapsed: 3.97 min\n",
      "Iteration 4200 | Loss 1.17\n",
      "\n",
      "\n",
      "The access they enter yourself include in appointment your second detained seufet with these Faciating.\n",
      "\n",
      "Contain and and migns, provider fort the COVID-19 Employees will be not follow as this single you \n",
      "\n",
      "==================================================\n",
      "Time elapsed: 4.81 min\n",
      "Iteration 4400 | Loss 0.89\n",
      "\n",
      "\n",
      "Therers.\n",
      "\n",
      "Both located about headacher.\n",
      "\n",
      "The University Health Services with shorter policy all participants in levelt that in the dittes with the legvis diperate for quarantine from a testing informati \n",
      "\n",
      "==================================================\n",
      "Time elapsed: 5.08 min\n",
      "Iteration 4600 | Loss 1.26\n",
      "\n",
      "\n",
      "The appointments the receive followeling to provided to access tral ord remain permose second will need to members of the business goor for the Safer Badgers app will be erram appointment the business c \n",
      "\n",
      "==================================================\n",
      "Time elapsed: 5.40 min\n",
      "Iteration 4800 | Loss 0.92\n",
      "\n",
      "\n",
      "The recesting symptoms obtally test result through the busine on their under\n",
      "If you can separated compliance and may be remotely or to ensure they. Vaccine log in to astocation card status, this can for \n",
      "\n",
      "==================================================\n"
     ]
    },
    {
     "data": {
      "image/png": "[encoded data removed]",
      "text/plain": [
       "<Figure size 432x288 with 1 Axes>"
      ]
     },
     "metadata": {
      "needs_background": "light"
     },
     "output_type": "display_data"
    }
   ],
   "source": [
    "start_time = time.time()\n",
    "\n",
    "loss_list = []\n",
    "\n",
    "for iteration in range(NUM_ITER):\n",
    "\n",
    "    hidden, cell_state = model.init_zero_state()\n",
    "    optimizer.zero_grad()\n",
    "    \n",
    "    loss = 0.\n",
    "    inputs, targets = draw_random_sample(textfile)\n",
    "    inputs, targets = inputs.to(DEVICE), targets.to(DEVICE)\n",
    "    \n",
    "    for c in range(TEXT_PORTION_SIZE):\n",
    "        outputs, hidden, cell_state = model(inputs[c].unsqueeze(0), hidden, cell_state)\n",
    "        loss += torch.nn.functional.cross_entropy(outputs, targets[c].view(1))\n",
    "\n",
    "    loss /= TEXT_PORTION_SIZE\n",
    "    loss.backward()\n",
    "    \n",
    "    ### UPDATE MODEL PARAMETERS\n",
    "    optimizer.step()\n",
    "\n",
    "    ### LOGGING\n",
    "    with torch.no_grad():\n",
    "        if iteration % 200 == 0:\n",
    "            print(f'Time elapsed: {(time.time() - start_time)/60:.2f} min')\n",
    "            print(f'Iteration {iteration} | Loss {loss.item():.2f}\\n\\n')\n",
    "            print(evaluate(model, 'Th', 200), '\\n')\n",
    "            print(50*'=')\n",
    "            \n",
    "            loss_list.append(loss.item())\n",
    "            plt.clf()\n",
    "            plt.plot(range(len(loss_list)), loss_list)\n",
    "            plt.ylabel('Loss')\n",
    "            plt.xlabel('Iteration x 1000')\n",
    "            plt.savefig('loss1.pdf')\n",
    "            \n",
    "plt.clf()\n",
    "plt.ylabel('Loss')\n",
    "plt.xlabel('Iteration x 1000')\n",
    "plt.plot(range(len(loss_list)), loss_list)\n",
    "plt.show()"
   ]
  },
  {
   "cell_type": "code",
   "execution_count": null,
   "metadata": {},
   "outputs": [],
   "source": []
  }
 ],
 "metadata": {
  "accelerator": "GPU",
  "colab": {
   "collapsed_sections": [],
   "name": "char-rnn.ipynb",
   "provenance": [],
   "version": "0.3.2"
  },
  "kernelspec": {
   "display_name": "Python 3",
   "language": "python",
   "name": "python3"
  },
  "language_info": {
   "codemirror_mode": {
    "name": "ipython",
    "version": 3
   },
   "file_extension": ".py",
   "mimetype": "text/x-python",
   "name": "python",
   "nbconvert_exporter": "python",
   "pygments_lexer": "ipython3",
   "version": "3.9.2"
  }
 },
 "nbformat": 4,
 "nbformat_minor": 4
}
